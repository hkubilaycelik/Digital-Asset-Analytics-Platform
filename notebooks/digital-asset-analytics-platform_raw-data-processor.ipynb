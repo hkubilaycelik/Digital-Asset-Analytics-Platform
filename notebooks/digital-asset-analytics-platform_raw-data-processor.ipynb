{
 "cells": [
  {
   "cell_type": "markdown",
   "metadata": {
    "application/vnd.databricks.v1+cell": {
     "cellMetadata": {},
     "inputWidgets": {},
     "nuid": "8836455d-ad0f-456a-ad61-6c52b325af14",
     "showTitle": false,
     "tableResultSettingsMap": {},
     "title": ""
    }
   },
   "source": [
    "# Raw Trade Data Aggregation\n",
    "  \n",
    "  **Environment:** Databricks Runtime\n",
    " \n",
    "  **Purpose:** This notebook reads raw trade data from the S3 `raw/` directory, transforms it into 1-minute OHLCV candles, and writes the processed data back to the `processed/` directory in Parquet format."
   ]
  },
  {
   "cell_type": "code",
   "execution_count": 0,
   "metadata": {
    "application/vnd.databricks.v1+cell": {
     "cellMetadata": {
      "byteLimit": 2048000,
      "rowLimit": 10000
     },
     "inputWidgets": {},
     "nuid": "2ed42550-f61a-4d2c-9490-e5fa9f5c2bc6",
     "showTitle": false,
     "tableResultSettingsMap": {},
     "title": ""
    }
   },
   "outputs": [
    {
     "output_type": "display_data",
     "data": {
      "text/html": [
       "<style scoped>\n",
       "  .table-result-container {\n",
       "    max-height: 300px;\n",
       "    overflow: auto;\n",
       "  }\n",
       "  table, th, td {\n",
       "    border: 1px solid black;\n",
       "    border-collapse: collapse;\n",
       "  }\n",
       "  th, td {\n",
       "    padding: 5px;\n",
       "  }\n",
       "  th {\n",
       "    text-align: left;\n",
       "  }\n",
       "</style><div class='table-result-container'><table class='table-result'><thead style='background-color: white'><tr><th>path</th><th>name</th><th>size</th><th>modificationTime</th></tr></thead><tbody><tr><td>s3://digital-asset-analytics-data-lake/raw/BTCUSDT-trades-2025-05.csv</td><td>BTCUSDT-trades-2025-05.csv</td><td>8382487926</td><td>1749846581000</td></tr></tbody></table></div>"
      ]
     },
     "metadata": {
      "application/vnd.databricks.v1+output": {
       "addedWidgets": {},
       "aggData": [],
       "aggError": "",
       "aggOverflow": false,
       "aggSchema": [],
       "aggSeriesLimitReached": false,
       "aggType": "",
       "arguments": {},
       "columnCustomDisplayInfos": {},
       "data": [
        [
         "s3://digital-asset-analytics-data-lake/raw/BTCUSDT-trades-2025-05.csv",
         "BTCUSDT-trades-2025-05.csv",
         8382487926,
         1749846581000
        ]
       ],
       "datasetInfos": [],
       "dbfsResultPath": null,
       "isJsonSchema": true,
       "metadata": {},
       "overflow": false,
       "plotOptions": {
        "customPlotOptions": {},
        "displayType": "table",
        "pivotAggregation": null,
        "pivotColumns": null,
        "xColumns": null,
        "yColumns": null
       },
       "removedWidgets": [],
       "schema": [
        {
         "metadata": "{}",
         "name": "path",
         "type": "\"string\""
        },
        {
         "metadata": "{}",
         "name": "name",
         "type": "\"string\""
        },
        {
         "metadata": "{}",
         "name": "size",
         "type": "\"long\""
        },
        {
         "metadata": "{}",
         "name": "modificationTime",
         "type": "\"long\""
        }
       ],
       "type": "table"
      }
     },
     "output_type": "display_data"
    }
   ],
   "source": [
    "# Define the path to your S3 bucket's raw data directory\n",
    "s3_path = \"s3://digital-asset-analytics-data-lake/raw/\"\n",
    "\n",
    "display(dbutils.fs.ls(s3_path))"
   ]
  },
  {
   "cell_type": "code",
   "execution_count": 0,
   "metadata": {
    "application/vnd.databricks.v1+cell": {
     "cellMetadata": {
      "byteLimit": 2048000,
      "rowLimit": 10000
     },
     "inputWidgets": {},
     "nuid": "b1dd3acb-b64a-451c-9cdc-5f381def64fb",
     "showTitle": false,
     "tableResultSettingsMap": {},
     "title": ""
    }
   },
   "outputs": [
    {
     "output_type": "stream",
     "name": "stdout",
     "output_type": "stream",
     "text": [
      "Successfully loaded data into a Spark DataFrame. Showing the first 10 rows:\n"
     ]
    },
    {
     "output_type": "display_data",
     "data": {
      "text/html": [
       "<style scoped>\n",
       "  .table-result-container {\n",
       "    max-height: 300px;\n",
       "    overflow: auto;\n",
       "  }\n",
       "  table, th, td {\n",
       "    border: 1px solid black;\n",
       "    border-collapse: collapse;\n",
       "  }\n",
       "  th, td {\n",
       "    padding: 5px;\n",
       "  }\n",
       "  th {\n",
       "    text-align: left;\n",
       "  }\n",
       "</style><div class='table-result-container'><table class='table-result'><thead style='background-color: white'><tr><th>trade_id</th><th>price</th><th>qty</th><th>quote_qty</th><th>time</th><th>is_buyer_maker</th><th>is_best_match</th></tr></thead><tbody><tr><td>4865299889</td><td>94172.0</td><td>6.7E-4</td><td>63.09524</td><td>1746057600079126</td><td>true</td><td>true</td></tr><tr><td>4865299890</td><td>94172.0</td><td>1.1E-4</td><td>10.35892</td><td>1746057600079126</td><td>true</td><td>true</td></tr><tr><td>4865299891</td><td>94172.0</td><td>9.5E-4</td><td>89.4634</td><td>1746057600079126</td><td>true</td><td>true</td></tr><tr><td>4865299892</td><td>94172.01</td><td>2.2E-4</td><td>20.7178422</td><td>1746057600219133</td><td>false</td><td>true</td></tr><tr><td>4865299893</td><td>94172.0</td><td>1.2E-4</td><td>11.30064</td><td>1746057600466644</td><td>true</td><td>true</td></tr><tr><td>4865299894</td><td>94172.0</td><td>0.00423</td><td>398.34756</td><td>1746057600502604</td><td>true</td><td>true</td></tr><tr><td>4865299895</td><td>94172.0</td><td>0.00202</td><td>190.22744</td><td>1746057600502604</td><td>true</td><td>true</td></tr><tr><td>4865299896</td><td>94172.0</td><td>6.0E-5</td><td>5.65032</td><td>1746057600502604</td><td>true</td><td>true</td></tr><tr><td>4865299897</td><td>94172.0</td><td>6.0E-5</td><td>5.65032</td><td>1746057600502604</td><td>true</td><td>true</td></tr><tr><td>4865299898</td><td>94172.0</td><td>6.0E-5</td><td>5.65032</td><td>1746057600502604</td><td>true</td><td>true</td></tr></tbody></table></div>"
      ]
     },
     "metadata": {
      "application/vnd.databricks.v1+output": {
       "addedWidgets": {},
       "aggData": [],
       "aggError": "",
       "aggOverflow": false,
       "aggSchema": [],
       "aggSeriesLimitReached": false,
       "aggType": "",
       "arguments": {},
       "columnCustomDisplayInfos": {},
       "data": [
        [
         4865299889,
         94172.0,
         6.7E-4,
         63.09524,
         1746057600079126,
         true,
         true
        ],
        [
         4865299890,
         94172.0,
         1.1E-4,
         10.35892,
         1746057600079126,
         true,
         true
        ],
        [
         4865299891,
         94172.0,
         9.5E-4,
         89.4634,
         1746057600079126,
         true,
         true
        ],
        [
         4865299892,
         94172.01,
         2.2E-4,
         20.7178422,
         1746057600219133,
         false,
         true
        ],
        [
         4865299893,
         94172.0,
         1.2E-4,
         11.30064,
         1746057600466644,
         true,
         true
        ],
        [
         4865299894,
         94172.0,
         0.00423,
         398.34756,
         1746057600502604,
         true,
         true
        ],
        [
         4865299895,
         94172.0,
         0.00202,
         190.22744,
         1746057600502604,
         true,
         true
        ],
        [
         4865299896,
         94172.0,
         6.0E-5,
         5.65032,
         1746057600502604,
         true,
         true
        ],
        [
         4865299897,
         94172.0,
         6.0E-5,
         5.65032,
         1746057600502604,
         true,
         true
        ],
        [
         4865299898,
         94172.0,
         6.0E-5,
         5.65032,
         1746057600502604,
         true,
         true
        ]
       ],
       "datasetInfos": [],
       "dbfsResultPath": null,
       "isJsonSchema": true,
       "metadata": {},
       "overflow": false,
       "plotOptions": {
        "customPlotOptions": {},
        "displayType": "table",
        "pivotAggregation": null,
        "pivotColumns": null,
        "xColumns": null,
        "yColumns": null
       },
       "removedWidgets": [],
       "schema": [
        {
         "metadata": "{}",
         "name": "trade_id",
         "type": "\"long\""
        },
        {
         "metadata": "{}",
         "name": "price",
         "type": "\"double\""
        },
        {
         "metadata": "{}",
         "name": "qty",
         "type": "\"double\""
        },
        {
         "metadata": "{}",
         "name": "quote_qty",
         "type": "\"double\""
        },
        {
         "metadata": "{}",
         "name": "time",
         "type": "\"long\""
        },
        {
         "metadata": "{}",
         "name": "is_buyer_maker",
         "type": "\"boolean\""
        },
        {
         "metadata": "{}",
         "name": "is_best_match",
         "type": "\"boolean\""
        }
       ],
       "type": "table"
      }
     },
     "output_type": "display_data"
    },
    {
     "output_type": "stream",
     "name": "stdout",
     "output_type": "stream",
     "text": [
      "DataFrame Schema:\nroot\n |-- trade_id: long (nullable = true)\n |-- price: double (nullable = true)\n |-- qty: double (nullable = true)\n |-- quote_qty: double (nullable = true)\n |-- time: long (nullable = true)\n |-- is_buyer_maker: boolean (nullable = true)\n |-- is_best_match: boolean (nullable = true)\n\n"
     ]
    }
   ],
   "source": [
    "from pyspark.sql.types import StructType, StructField, LongType, DoubleType, BooleanType\n",
    "# Define the schema for the CSV file according to its documentation\n",
    "trade_schema = StructType([\n",
    "    StructField(\"trade_id\", LongType(), True),\n",
    "    StructField(\"price\", DoubleType(), True),\n",
    "    StructField(\"qty\", DoubleType(), True),\n",
    "    StructField(\"quote_qty\", DoubleType(), True),\n",
    "    StructField(\"time\", LongType(), True),\n",
    "    StructField(\"is_buyer_maker\", BooleanType(), True),\n",
    "    StructField(\"is_best_match\", BooleanType(), True)\n",
    "])\n",
    "\n",
    "\n",
    "# 1. Define the full path to CSV file in S3\n",
    "file_path = \"s3://digital-asset-analytics-data-lake/raw/BTCUSDT-trades-2025-05.csv\"\n",
    "\n",
    "# Read the CSV file into a Spark DataFrame\n",
    "\n",
    "raw_trades_df = (spark.read\n",
    "              .option(\"header\", \"false\")\n",
    "              .schema(trade_schema)\n",
    "              .csv(file_path)\n",
    "             )\n",
    "\n",
    "\n",
    "# Chech the first few rows of the DataFrame to verify correctness\n",
    "print(\"Successfully loaded data into a Spark DataFrame. Showing the first 10 rows:\")\n",
    "display(raw_trades_df.limit(10))\n",
    "\n",
    "# Check the schema\n",
    "print(\"DataFrame Schema:\")\n",
    "raw_trades_df.printSchema()"
   ]
  },
  {
   "cell_type": "code",
   "execution_count": 0,
   "metadata": {
    "application/vnd.databricks.v1+cell": {
     "cellMetadata": {
      "byteLimit": 2048000,
      "rowLimit": 10000
     },
     "inputWidgets": {},
     "nuid": "6eeda668-eecc-4841-a8d2-48649151c8ad",
     "showTitle": false,
     "tableResultSettingsMap": {},
     "title": ""
    }
   },
   "outputs": [
    {
     "output_type": "stream",
     "name": "stdout",
     "output_type": "stream",
     "text": [
      "Verification: Displaying original 'time' and new 'trade_time' columns.\n"
     ]
    },
    {
     "output_type": "display_data",
     "data": {
      "text/html": [
       "<style scoped>\n",
       "  .table-result-container {\n",
       "    max-height: 300px;\n",
       "    overflow: auto;\n",
       "  }\n",
       "  table, th, td {\n",
       "    border: 1px solid black;\n",
       "    border-collapse: collapse;\n",
       "  }\n",
       "  th, td {\n",
       "    padding: 5px;\n",
       "  }\n",
       "  th {\n",
       "    text-align: left;\n",
       "  }\n",
       "</style><div class='table-result-container'><table class='table-result'><thead style='background-color: white'><tr><th>time</th><th>trade_time</th></tr></thead><tbody><tr><td>1746057600079126</td><td>2025-05-01T00:00:00.079126Z</td></tr><tr><td>1746057600079126</td><td>2025-05-01T00:00:00.079126Z</td></tr><tr><td>1746057600079126</td><td>2025-05-01T00:00:00.079126Z</td></tr><tr><td>1746057600219133</td><td>2025-05-01T00:00:00.219133Z</td></tr><tr><td>1746057600466644</td><td>2025-05-01T00:00:00.466644Z</td></tr><tr><td>1746057600502604</td><td>2025-05-01T00:00:00.502604Z</td></tr><tr><td>1746057600502604</td><td>2025-05-01T00:00:00.502604Z</td></tr><tr><td>1746057600502604</td><td>2025-05-01T00:00:00.502604Z</td></tr><tr><td>1746057600502604</td><td>2025-05-01T00:00:00.502604Z</td></tr><tr><td>1746057600502604</td><td>2025-05-01T00:00:00.502604Z</td></tr></tbody></table></div>"
      ]
     },
     "metadata": {
      "application/vnd.databricks.v1+output": {
       "addedWidgets": {},
       "aggData": [],
       "aggError": "",
       "aggOverflow": false,
       "aggSchema": [],
       "aggSeriesLimitReached": false,
       "aggType": "",
       "arguments": {},
       "columnCustomDisplayInfos": {},
       "data": [
        [
         1746057600079126,
         "2025-05-01T00:00:00.079126Z"
        ],
        [
         1746057600079126,
         "2025-05-01T00:00:00.079126Z"
        ],
        [
         1746057600079126,
         "2025-05-01T00:00:00.079126Z"
        ],
        [
         1746057600219133,
         "2025-05-01T00:00:00.219133Z"
        ],
        [
         1746057600466644,
         "2025-05-01T00:00:00.466644Z"
        ],
        [
         1746057600502604,
         "2025-05-01T00:00:00.502604Z"
        ],
        [
         1746057600502604,
         "2025-05-01T00:00:00.502604Z"
        ],
        [
         1746057600502604,
         "2025-05-01T00:00:00.502604Z"
        ],
        [
         1746057600502604,
         "2025-05-01T00:00:00.502604Z"
        ],
        [
         1746057600502604,
         "2025-05-01T00:00:00.502604Z"
        ]
       ],
       "datasetInfos": [],
       "dbfsResultPath": null,
       "isJsonSchema": true,
       "metadata": {},
       "overflow": false,
       "plotOptions": {
        "customPlotOptions": {},
        "displayType": "table",
        "pivotAggregation": null,
        "pivotColumns": null,
        "xColumns": null,
        "yColumns": null
       },
       "removedWidgets": [],
       "schema": [
        {
         "metadata": "{}",
         "name": "time",
         "type": "\"long\""
        },
        {
         "metadata": "{}",
         "name": "trade_time",
         "type": "\"timestamp\""
        }
       ],
       "type": "table"
      }
     },
     "output_type": "display_data"
    },
    {
     "output_type": "stream",
     "name": "stdout",
     "output_type": "stream",
     "text": [
      "\nNew Schema with the 'trade_time' column:\nroot\n |-- trade_id: long (nullable = true)\n |-- price: double (nullable = true)\n |-- qty: double (nullable = true)\n |-- quote_qty: double (nullable = true)\n |-- time: long (nullable = true)\n |-- is_buyer_maker: boolean (nullable = true)\n |-- is_best_match: boolean (nullable = true)\n |-- trade_time: timestamp (nullable = true)\n\n"
     ]
    }
   ],
   "source": [
    "from pyspark.sql.functions import col\n",
    "# 'time' column is in microseconds, convert to seconds and cast to timestamp\n",
    "transformed_df = raw_trades_df.withColumn(\n",
    "    \"trade_time\",\n",
    "    (col(\"time\") / 1000000).cast(\"timestamp\")\n",
    ")\n",
    "\n",
    "print(\"Verification: Displaying original 'time' and new 'trade_time' columns.\")\n",
    "display(transformed_df.select(\"time\", \"trade_time\").limit(10))\n",
    "\n",
    "print(\"\\nNew Schema with the 'trade_time' column:\")\n",
    "transformed_df.printSchema()"
   ]
  },
  {
   "cell_type": "code",
   "execution_count": 0,
   "metadata": {
    "application/vnd.databricks.v1+cell": {
     "cellMetadata": {
      "byteLimit": 2048000,
      "rowLimit": 10000
     },
     "inputWidgets": {},
     "nuid": "0407a394-ddf6-4bd6-b78b-dc4a182e8149",
     "showTitle": false,
     "tableResultSettingsMap": {},
     "title": ""
    }
   },
   "outputs": [
    {
     "output_type": "stream",
     "name": "stdout",
     "output_type": "stream",
     "text": [
      "Aggregating raw trades into 1-minute OHLCV candles\nDisplaying the first 20 1-minute candles:\n"
     ]
    },
    {
     "output_type": "display_data",
     "data": {
      "text/html": [
       "<style scoped>\n",
       "  .table-result-container {\n",
       "    max-height: 300px;\n",
       "    overflow: auto;\n",
       "  }\n",
       "  table, th, td {\n",
       "    border: 1px solid black;\n",
       "    border-collapse: collapse;\n",
       "  }\n",
       "  th, td {\n",
       "    padding: 5px;\n",
       "  }\n",
       "  th {\n",
       "    text-align: left;\n",
       "  }\n",
       "</style><div class='table-result-container'><table class='table-result'><thead style='background-color: white'><tr><th>window</th><th>open</th><th>high</th><th>low</th><th>close</th><th>volume</th></tr></thead><tbody><tr><td>List(2025-05-01T00:00:00Z, 2025-05-01T00:01:00Z)</td><td>94172.0</td><td>94177.96</td><td>94130.43</td><td>94147.3</td><td>6.474360000000202</td></tr><tr><td>List(2025-05-01T00:01:00Z, 2025-05-01T00:02:00Z)</td><td>94147.31</td><td>94190.47</td><td>94147.3</td><td>94187.02</td><td>3.977809999999966</td></tr><tr><td>List(2025-05-01T00:02:00Z, 2025-05-01T00:03:00Z)</td><td>94187.01</td><td>94198.77</td><td>94187.01</td><td>94198.75</td><td>2.241029999999981</td></tr><tr><td>List(2025-05-01T00:03:00Z, 2025-05-01T00:04:00Z)</td><td>94198.75</td><td>94198.76</td><td>94169.45</td><td>94169.45</td><td>3.3184799999999632</td></tr><tr><td>List(2025-05-01T00:04:00Z, 2025-05-01T00:05:00Z)</td><td>94169.46</td><td>94238.1</td><td>94156.73</td><td>94238.09</td><td>7.514380000000452</td></tr><tr><td>List(2025-05-01T00:05:00Z, 2025-05-01T00:06:00Z)</td><td>94238.09</td><td>94278.12</td><td>94221.4</td><td>94221.4</td><td>17.57883000000025</td></tr><tr><td>List(2025-05-01T00:06:00Z, 2025-05-01T00:07:00Z)</td><td>94221.4</td><td>94248.49</td><td>94221.4</td><td>94231.71</td><td>6.250770000000031</td></tr><tr><td>List(2025-05-01T00:07:00Z, 2025-05-01T00:08:00Z)</td><td>94231.71</td><td>94255.08</td><td>94181.43</td><td>94248.0</td><td>10.17593000000036</td></tr><tr><td>List(2025-05-01T00:08:00Z, 2025-05-01T00:09:00Z)</td><td>94248.0</td><td>94285.72</td><td>94240.16</td><td>94285.71</td><td>12.365790000000038</td></tr><tr><td>List(2025-05-01T00:09:00Z, 2025-05-01T00:10:00Z)</td><td>94285.71</td><td>94304.0</td><td>94285.71</td><td>94303.99</td><td>3.6578399999999607</td></tr><tr><td>List(2025-05-01T00:10:00Z, 2025-05-01T00:11:00Z)</td><td>94303.99</td><td>94331.05</td><td>94303.99</td><td>94331.04</td><td>2.258479999999973</td></tr><tr><td>List(2025-05-01T00:11:00Z, 2025-05-01T00:12:00Z)</td><td>94331.04</td><td>94344.91</td><td>94320.44</td><td>94344.91</td><td>17.25980999999968</td></tr><tr><td>List(2025-05-01T00:12:00Z, 2025-05-01T00:13:00Z)</td><td>94344.91</td><td>94347.83</td><td>94315.24</td><td>94315.24</td><td>8.85990999999992</td></tr><tr><td>List(2025-05-01T00:13:00Z, 2025-05-01T00:14:00Z)</td><td>94315.24</td><td>94337.96</td><td>94315.24</td><td>94331.46</td><td>8.145370000000039</td></tr><tr><td>List(2025-05-01T00:14:00Z, 2025-05-01T00:15:00Z)</td><td>94331.46</td><td>94331.47</td><td>94269.0</td><td>94269.04</td><td>10.045330000000135</td></tr><tr><td>List(2025-05-01T00:15:00Z, 2025-05-01T00:16:00Z)</td><td>94269.03</td><td>94314.04</td><td>94269.03</td><td>94314.04</td><td>3.618349999999962</td></tr><tr><td>List(2025-05-01T00:16:00Z, 2025-05-01T00:17:00Z)</td><td>94314.03</td><td>94314.04</td><td>94268.89</td><td>94268.89</td><td>4.881640000000193</td></tr><tr><td>List(2025-05-01T00:17:00Z, 2025-05-01T00:18:00Z)</td><td>94268.9</td><td>94268.9</td><td>94208.87</td><td>94208.88</td><td>6.2336800000001</td></tr><tr><td>List(2025-05-01T00:18:00Z, 2025-05-01T00:19:00Z)</td><td>94208.88</td><td>94224.17</td><td>94208.86</td><td>94224.17</td><td>3.7228999999999846</td></tr><tr><td>List(2025-05-01T00:19:00Z, 2025-05-01T00:20:00Z)</td><td>94224.16</td><td>94239.93</td><td>94224.16</td><td>94239.93</td><td>3.7773699999999875</td></tr></tbody></table></div>"
      ]
     },
     "metadata": {
      "application/vnd.databricks.v1+output": {
       "addedWidgets": {},
       "aggData": [],
       "aggError": "",
       "aggOverflow": false,
       "aggSchema": [],
       "aggSeriesLimitReached": false,
       "aggType": "",
       "arguments": {},
       "columnCustomDisplayInfos": {},
       "data": [
        [
         [
          "2025-05-01T00:00:00Z",
          "2025-05-01T00:01:00Z"
         ],
         94172.0,
         94177.96,
         94130.43,
         94147.3,
         6.474360000000202
        ],
        [
         [
          "2025-05-01T00:01:00Z",
          "2025-05-01T00:02:00Z"
         ],
         94147.31,
         94190.47,
         94147.3,
         94187.02,
         3.977809999999966
        ],
        [
         [
          "2025-05-01T00:02:00Z",
          "2025-05-01T00:03:00Z"
         ],
         94187.01,
         94198.77,
         94187.01,
         94198.75,
         2.241029999999981
        ],
        [
         [
          "2025-05-01T00:03:00Z",
          "2025-05-01T00:04:00Z"
         ],
         94198.75,
         94198.76,
         94169.45,
         94169.45,
         3.3184799999999632
        ],
        [
         [
          "2025-05-01T00:04:00Z",
          "2025-05-01T00:05:00Z"
         ],
         94169.46,
         94238.1,
         94156.73,
         94238.09,
         7.514380000000452
        ],
        [
         [
          "2025-05-01T00:05:00Z",
          "2025-05-01T00:06:00Z"
         ],
         94238.09,
         94278.12,
         94221.4,
         94221.4,
         17.57883000000025
        ],
        [
         [
          "2025-05-01T00:06:00Z",
          "2025-05-01T00:07:00Z"
         ],
         94221.4,
         94248.49,
         94221.4,
         94231.71,
         6.250770000000031
        ],
        [
         [
          "2025-05-01T00:07:00Z",
          "2025-05-01T00:08:00Z"
         ],
         94231.71,
         94255.08,
         94181.43,
         94248.0,
         10.17593000000036
        ],
        [
         [
          "2025-05-01T00:08:00Z",
          "2025-05-01T00:09:00Z"
         ],
         94248.0,
         94285.72,
         94240.16,
         94285.71,
         12.365790000000038
        ],
        [
         [
          "2025-05-01T00:09:00Z",
          "2025-05-01T00:10:00Z"
         ],
         94285.71,
         94304.0,
         94285.71,
         94303.99,
         3.6578399999999607
        ],
        [
         [
          "2025-05-01T00:10:00Z",
          "2025-05-01T00:11:00Z"
         ],
         94303.99,
         94331.05,
         94303.99,
         94331.04,
         2.258479999999973
        ],
        [
         [
          "2025-05-01T00:11:00Z",
          "2025-05-01T00:12:00Z"
         ],
         94331.04,
         94344.91,
         94320.44,
         94344.91,
         17.25980999999968
        ],
        [
         [
          "2025-05-01T00:12:00Z",
          "2025-05-01T00:13:00Z"
         ],
         94344.91,
         94347.83,
         94315.24,
         94315.24,
         8.85990999999992
        ],
        [
         [
          "2025-05-01T00:13:00Z",
          "2025-05-01T00:14:00Z"
         ],
         94315.24,
         94337.96,
         94315.24,
         94331.46,
         8.145370000000039
        ],
        [
         [
          "2025-05-01T00:14:00Z",
          "2025-05-01T00:15:00Z"
         ],
         94331.46,
         94331.47,
         94269.0,
         94269.04,
         10.045330000000135
        ],
        [
         [
          "2025-05-01T00:15:00Z",
          "2025-05-01T00:16:00Z"
         ],
         94269.03,
         94314.04,
         94269.03,
         94314.04,
         3.618349999999962
        ],
        [
         [
          "2025-05-01T00:16:00Z",
          "2025-05-01T00:17:00Z"
         ],
         94314.03,
         94314.04,
         94268.89,
         94268.89,
         4.881640000000193
        ],
        [
         [
          "2025-05-01T00:17:00Z",
          "2025-05-01T00:18:00Z"
         ],
         94268.9,
         94268.9,
         94208.87,
         94208.88,
         6.2336800000001
        ],
        [
         [
          "2025-05-01T00:18:00Z",
          "2025-05-01T00:19:00Z"
         ],
         94208.88,
         94224.17,
         94208.86,
         94224.17,
         3.7228999999999846
        ],
        [
         [
          "2025-05-01T00:19:00Z",
          "2025-05-01T00:20:00Z"
         ],
         94224.16,
         94239.93,
         94224.16,
         94239.93,
         3.7773699999999875
        ]
       ],
       "datasetInfos": [],
       "dbfsResultPath": null,
       "isJsonSchema": true,
       "metadata": {},
       "overflow": false,
       "plotOptions": {
        "customPlotOptions": {},
        "displayType": "table",
        "pivotAggregation": null,
        "pivotColumns": null,
        "xColumns": null,
        "yColumns": null
       },
       "removedWidgets": [],
       "schema": [
        {
         "metadata": "{\"spark.timeWindow\":true}",
         "name": "window",
         "type": "{\"type\":\"struct\",\"fields\":[{\"name\":\"start\",\"type\":\"timestamp\",\"nullable\":true,\"metadata\":{}},{\"name\":\"end\",\"type\":\"timestamp\",\"nullable\":true,\"metadata\":{}}]}"
        },
        {
         "metadata": "{}",
         "name": "open",
         "type": "\"double\""
        },
        {
         "metadata": "{}",
         "name": "high",
         "type": "\"double\""
        },
        {
         "metadata": "{}",
         "name": "low",
         "type": "\"double\""
        },
        {
         "metadata": "{}",
         "name": "close",
         "type": "\"double\""
        },
        {
         "metadata": "{}",
         "name": "volume",
         "type": "\"double\""
        }
       ],
       "type": "table"
      }
     },
     "output_type": "display_data"
    },
    {
     "output_type": "stream",
     "name": "stdout",
     "output_type": "stream",
     "text": [
      "\nSchema of new candles_df:\nroot\n |-- window: struct (nullable = false)\n |    |-- start: timestamp (nullable = true)\n |    |-- end: timestamp (nullable = true)\n |-- open: double (nullable = true)\n |-- high: double (nullable = true)\n |-- low: double (nullable = true)\n |-- close: double (nullable = true)\n |-- volume: double (nullable = true)\n\n"
     ]
    }
   ],
   "source": [
    "from pyspark.sql.functions import window, col, first, last, max, min, sum\n",
    "\n",
    "print(\"Aggregating raw trades into 1-minute OHLCV candles\")\n",
    "\n",
    "# Group the data into 1-minute windows based on the 'trade_time' column. Then, for each window perform aggregations\n",
    "candles_df = transformed_df.groupBy(\n",
    "    window(col(\"trade_time\"), \"1 minute\", \"1 minute\")\n",
    ").agg(\n",
    "    first(\"price\").alias(\"open\"),      # Get the first price in the window for the 'open'\n",
    "    max(\"price\").alias(\"high\"),       # Get the maximum price in the window for the 'high'\n",
    "    min(\"price\").alias(\"low\"),        # Get the minimum price in the window for the 'low'\n",
    "    last(\"price\").alias(\"close\"),       # Get the last price in the window for the 'close'\n",
    "    sum(\"qty\").alias(\"volume\")        # Sum up all quantities to get the total 'volume'\n",
    ").orderBy(\n",
    "    col(\"window\").asc() # Order the results by time ascending\n",
    ")\n",
    "\n",
    "# Verify the results\n",
    "print(\"Displaying the first 20 1-minute candles:\")\n",
    "display(candles_df.limit(20))\n",
    "\n",
    "print(\"\\nSchema of new candles_df:\")\n",
    "candles_df.printSchema()"
   ]
  },
  {
   "cell_type": "code",
   "execution_count": 0,
   "metadata": {
    "application/vnd.databricks.v1+cell": {
     "cellMetadata": {
      "byteLimit": 2048000,
      "rowLimit": 10000
     },
     "inputWidgets": {},
     "nuid": "1ff9963f-be18-40e9-821e-bf2d13b18ce2",
     "showTitle": false,
     "tableResultSettingsMap": {},
     "title": ""
    }
   },
   "outputs": [
    {
     "output_type": "stream",
     "name": "stdout",
     "output_type": "stream",
     "text": [
      "Saving the candle data to: s3://digital-asset-analytics-data-lake/processed/candles/\nSave complete\n"
     ]
    }
   ],
   "source": [
    "# Define the output path in S3 bucket.\n",
    "\n",
    "output_path = \"s3://digital-asset-analytics-data-lake/processed/candles/\"\n",
    "\n",
    "print(f\"Saving the candle data to: {output_path}\")\n",
    "\n",
    "# Write the DataFrame to S3 in Parquet format\n",
    "\n",
    "(candles_df.write\n",
    "    .mode(\"overwrite\")\n",
    "    .parquet(output_path)\n",
    ")\n",
    "\n",
    "print(\"Save complete\")"
   ]
  },
  {
   "cell_type": "code",
   "execution_count": 0,
   "metadata": {
    "application/vnd.databricks.v1+cell": {
     "cellMetadata": {
      "byteLimit": 2048000,
      "rowLimit": 10000
     },
     "inputWidgets": {},
     "nuid": "ea323196-5e17-4cdc-a46c-bd54c9c1739b",
     "showTitle": false,
     "tableResultSettingsMap": {},
     "title": ""
    }
   },
   "outputs": [
    {
     "output_type": "display_data",
     "data": {
      "text/html": [
       "<style scoped>\n",
       "  .table-result-container {\n",
       "    max-height: 300px;\n",
       "    overflow: auto;\n",
       "  }\n",
       "  table, th, td {\n",
       "    border: 1px solid black;\n",
       "    border-collapse: collapse;\n",
       "  }\n",
       "  th, td {\n",
       "    padding: 5px;\n",
       "  }\n",
       "  th {\n",
       "    text-align: left;\n",
       "  }\n",
       "</style><div class='table-result-container'><table class='table-result'><thead style='background-color: white'><tr><th>path</th><th>name</th><th>size</th><th>modificationTime</th></tr></thead><tbody><tr><td>s3://digital-asset-analytics-data-lake/processed/candles/_SUCCESS</td><td>_SUCCESS</td><td>0</td><td>1749928556000</td></tr><tr><td>s3://digital-asset-analytics-data-lake/processed/candles/_committed_2868418332403867721</td><td>_committed_2868418332403867721</td><td>224</td><td>1749928556000</td></tr><tr><td>s3://digital-asset-analytics-data-lake/processed/candles/_started_2868418332403867721</td><td>_started_2868418332403867721</td><td>0</td><td>1749928555000</td></tr><tr><td>s3://digital-asset-analytics-data-lake/processed/candles/part-00000-tid-2868418332403867721-2cce465c-ad59-4385-9024-cd1dcbcab9c1-208-1.c000.snappy.parquet</td><td>part-00000-tid-2868418332403867721-2cce465c-ad59-4385-9024-cd1dcbcab9c1-208-1.c000.snappy.parquet</td><td>878416</td><td>1749928555000</td></tr><tr><td>s3://digital-asset-analytics-data-lake/processed/candles/part-00001-tid-2868418332403867721-2cce465c-ad59-4385-9024-cd1dcbcab9c1-209-1.c000.snappy.parquet</td><td>part-00001-tid-2868418332403867721-2cce465c-ad59-4385-9024-cd1dcbcab9c1-209-1.c000.snappy.parquet</td><td>859825</td><td>1749928555000</td></tr></tbody></table></div>"
      ]
     },
     "metadata": {
      "application/vnd.databricks.v1+output": {
       "addedWidgets": {},
       "aggData": [],
       "aggError": "",
       "aggOverflow": false,
       "aggSchema": [],
       "aggSeriesLimitReached": false,
       "aggType": "",
       "arguments": {},
       "columnCustomDisplayInfos": {},
       "data": [
        [
         "s3://digital-asset-analytics-data-lake/processed/candles/_SUCCESS",
         "_SUCCESS",
         0,
         1749928556000
        ],
        [
         "s3://digital-asset-analytics-data-lake/processed/candles/_committed_2868418332403867721",
         "_committed_2868418332403867721",
         224,
         1749928556000
        ],
        [
         "s3://digital-asset-analytics-data-lake/processed/candles/_started_2868418332403867721",
         "_started_2868418332403867721",
         0,
         1749928555000
        ],
        [
         "s3://digital-asset-analytics-data-lake/processed/candles/part-00000-tid-2868418332403867721-2cce465c-ad59-4385-9024-cd1dcbcab9c1-208-1.c000.snappy.parquet",
         "part-00000-tid-2868418332403867721-2cce465c-ad59-4385-9024-cd1dcbcab9c1-208-1.c000.snappy.parquet",
         878416,
         1749928555000
        ],
        [
         "s3://digital-asset-analytics-data-lake/processed/candles/part-00001-tid-2868418332403867721-2cce465c-ad59-4385-9024-cd1dcbcab9c1-209-1.c000.snappy.parquet",
         "part-00001-tid-2868418332403867721-2cce465c-ad59-4385-9024-cd1dcbcab9c1-209-1.c000.snappy.parquet",
         859825,
         1749928555000
        ]
       ],
       "datasetInfos": [],
       "dbfsResultPath": null,
       "isJsonSchema": true,
       "metadata": {},
       "overflow": false,
       "plotOptions": {
        "customPlotOptions": {},
        "displayType": "table",
        "pivotAggregation": null,
        "pivotColumns": null,
        "xColumns": null,
        "yColumns": null
       },
       "removedWidgets": [],
       "schema": [
        {
         "metadata": "{}",
         "name": "path",
         "type": "\"string\""
        },
        {
         "metadata": "{}",
         "name": "name",
         "type": "\"string\""
        },
        {
         "metadata": "{}",
         "name": "size",
         "type": "\"long\""
        },
        {
         "metadata": "{}",
         "name": "modificationTime",
         "type": "\"long\""
        }
       ],
       "type": "table"
      }
     },
     "output_type": "display_data"
    }
   ],
   "source": [
    "# Verify the written files in S3\n",
    "display(dbutils.fs.ls(output_path))"
   ]
  },
  {
   "cell_type": "code",
   "execution_count": 0,
   "metadata": {
    "application/vnd.databricks.v1+cell": {
     "cellMetadata": {
      "byteLimit": 2048000,
      "rowLimit": 10000
     },
     "inputWidgets": {},
     "nuid": "810362b0-1024-4baa-9007-3f7dcaba0143",
     "showTitle": false,
     "tableResultSettingsMap": {},
     "title": ""
    }
   },
   "outputs": [
    {
     "output_type": "stream",
     "name": "stdout",
     "output_type": "stream",
     "text": [
      "Reading the processed Parquet data from S3\nVerification complete.\nThe aggregated 'candles_df' has a total of 44,640 rows (1-minute candles).\nFor a full 31-day month, expected number of rows is 44,640.\n"
     ]
    }
   ],
   "source": [
    "# --- Final Verification ---\n",
    "\n",
    "print(\"Reading the processed Parquet data from S3\")\n",
    "processed_df = spark.read.parquet(\"s3://digital-asset-analytics-data-lake/processed/candles/\")\n",
    "\n",
    "row_count = processed_df.count()\n",
    "\n",
    "print(\"Verification complete.\")\n",
    "print(f\"The aggregated 'candles_df' has a total of {row_count:,} rows (1-minute candles).\")\n",
    "print(\"For a full 31-day month, expected number of rows is 44,640.\")"
   ]
  },
  {
   "cell_type": "code",
   "execution_count": 0,
   "metadata": {
    "application/vnd.databricks.v1+cell": {
     "cellMetadata": {},
     "inputWidgets": {},
     "nuid": "e6ff09f7-eb97-4a4c-80fe-2ca8f1c30ad3",
     "showTitle": false,
     "tableResultSettingsMap": {},
     "title": ""
    }
   },
   "outputs": [],
   "source": []
  }
 ],
 "metadata": {
  "application/vnd.databricks.v1+notebook": {
   "computePreferences": null,
   "dashboards": [],
   "environmentMetadata": {
    "base_environment": "",
    "environment_version": "2"
   },
   "inputWidgetPreferences": null,
   "language": "python",
   "notebookMetadata": {
    "pythonIndentUnit": 4
   },
   "notebookName": "digital-asset-analytics-platform_raw-data-processor",
   "widgets": {}
  },
  "language_info": {
   "name": "python"
  }
 },
 "nbformat": 4,
 "nbformat_minor": 0
}